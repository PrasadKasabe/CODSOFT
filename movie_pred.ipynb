{
  "nbformat": 4,
  "nbformat_minor": 0,
  "metadata": {
    "colab": {
      "provenance": [],
      "authorship_tag": "ABX9TyMobM95To45SfgByPrP0MRi",
      "include_colab_link": true
    },
    "kernelspec": {
      "name": "python3",
      "display_name": "Python 3"
    },
    "language_info": {
      "name": "python"
    }
  },
  "cells": [
    {
      "cell_type": "markdown",
      "metadata": {
        "id": "view-in-github",
        "colab_type": "text"
      },
      "source": [
        "<a href=\"https://colab.research.google.com/github/PrasadKasabe/CODSOFT/blob/main/movie_pred.ipynb\" target=\"_parent\"><img src=\"https://colab.research.google.com/assets/colab-badge.svg\" alt=\"Open In Colab\"/></a>"
      ]
    },
    {
      "cell_type": "code",
      "source": [
        "\n",
        "import pandas as pd\n",
        "from sklearn.preprocessing import LabelEncoder, MultiLabelBinarizer\n",
        "from sklearn.model_selection import train_test_split\n",
        "from sklearn.ensemble import RandomForestRegressor\n",
        "from sklearn.metrics import mean_absolute_error, mean_squared_error, r2_score\n",
        "import numpy as np\n",
        "\n",
        "# Load the dataset\n",
        "df = pd.read_csv('Movies_India.csv', encoding='latin-1')\n",
        "\n",
        "# --- Data Preprocessing ---\n",
        "\n",
        "# Drop rows where 'Rating' is missing (our target variable)\n",
        "df.dropna(subset=['Rating'], inplace=True)\n",
        "\n",
        "# Clean and convert 'Year', 'Duration', and 'Votes' columns to numeric\n",
        "df['Year'] = df['Year'].str.extract(r'\\((\\d{4})\\)').astype(float)\n",
        "df['Duration'] = df['Duration'].str.replace(' min', '', regex=False).astype(float)\n",
        "df['Votes'] = df['Votes'].str.replace(',', '', regex=False).astype(float)\n",
        "\n",
        "\n",
        "\n",
        "# Impute missing 'Duration' values with the median\n",
        "df['Duration'].fillna(df['Duration'].median(), inplace=True)\n",
        "\n",
        "# Fill missing values in categorical columns with 'Unknown'\n",
        "categorical_cols = ['Genre', 'Director', 'Actor 1', 'Actor 2', 'Actor 3']\n",
        "for col in categorical_cols:\n",
        "    df[col].fillna('Unknown', inplace=True)\n",
        "\n",
        "# Encode 'Genre' using MultiLabelBinarizer (for multiple genres per movie)\n",
        "df['Genre'] = df['Genre'].apply(lambda x: str(x).split(', ') if pd.notna(x) else [])\n",
        "mlb = MultiLabelBinarizer()\n",
        "genre_encoded = pd.DataFrame(mlb.fit_transform(df['Genre']), columns=mlb.classes_, index=df.index)\n",
        "df = pd.concat([df, genre_encoded], axis=1)\n",
        "df.drop('Genre', axis=1, inplace=True)\n",
        "\n",
        "# Encode 'Director', 'Actor 1', 'Actor 2', 'Actor 3' using LabelEncoder\n",
        "label_encoders = {} # Store encoders for potential future use (e.g., predicting new movies)\n",
        "for col in ['Director', 'Actor 1', 'Actor 2', 'Actor 3']:\n",
        "    le = LabelEncoder()\n",
        "    df[col] = le.fit_transform(df[col])\n",
        "    label_encoders[col] = le\n",
        "\n",
        "# --- Model Building and Evaluation ---\n",
        "\n",
        "# Define features (X) and target (y)\n",
        "X = df.drop(['Name', 'Rating'], axis=1) # 'Name' is an identifier, 'Rating' is the target\n",
        "y = df['Rating']\n",
        "\n",
        "# Split the data into training and testing sets\n",
        "X_train, X_test, y_train, y_test = train_test_split(X, y, test_size=0.2, random_state=42)\n",
        "\n",
        "# Initialize and train the RandomForestRegressor model\n",
        "model = RandomForestRegressor(n_estimators=100, random_state=42, n_jobs=-1)\n",
        "model.fit(X_train, y_train)\n",
        "\n",
        "# Make predictions on the test set\n",
        "y_pred = model.predict(X_test)\n",
        "\n",
        "# Evaluate the model\n",
        "mae = mean_absolute_error(y_test, y_pred)\n",
        "mse = mean_squared_error(y_test, y_pred)\n",
        "rmse = np.sqrt(mse)\n",
        "r2 = r2_score(y_test, y_pred)\n",
        "\n",
        "# Print evaluation results\n",
        "print(\"--- Model Evaluation Results ---\")\n",
        "print(f\"Mean Absolute Error (MAE): {mae:.4f}\")\n",
        "print(f\"Mean Squared Error (MSE): {mse:.4f}\")\n",
        "print(f\"Root Mean Squared Error (RMSE): {rmse:.4f}\")\n",
        "print(f\"R-squared (R2): {r2:.4f}\")\n"
      ],
      "metadata": {
        "id": "JuWRGS7CND6i",
        "outputId": "e255882d-0d72-4b19-fe2a-34fe7bd6cae8",
        "colab": {
          "base_uri": "https://localhost:8080/"
        }
      },
      "execution_count": null,
      "outputs": [
        {
          "output_type": "stream",
          "name": "stderr",
          "text": [
            "/tmp/ipython-input-1-1092367022.py:24: FutureWarning: A value is trying to be set on a copy of a DataFrame or Series through chained assignment using an inplace method.\n",
            "The behavior will change in pandas 3.0. This inplace method will never work because the intermediate object on which we are setting values always behaves as a copy.\n",
            "\n",
            "For example, when doing 'df[col].method(value, inplace=True)', try using 'df.method({col: value}, inplace=True)' or df[col] = df[col].method(value) instead, to perform the operation inplace on the original object.\n",
            "\n",
            "\n",
            "  df['Duration'].fillna(df['Duration'].median(), inplace=True)\n",
            "/tmp/ipython-input-1-1092367022.py:29: FutureWarning: A value is trying to be set on a copy of a DataFrame or Series through chained assignment using an inplace method.\n",
            "The behavior will change in pandas 3.0. This inplace method will never work because the intermediate object on which we are setting values always behaves as a copy.\n",
            "\n",
            "For example, when doing 'df[col].method(value, inplace=True)', try using 'df.method({col: value}, inplace=True)' or df[col] = df[col].method(value) instead, to perform the operation inplace on the original object.\n",
            "\n",
            "\n",
            "  df[col].fillna('Unknown', inplace=True)\n"
          ]
        },
        {
          "output_type": "stream",
          "name": "stdout",
          "text": [
            "--- Model Evaluation Results ---\n",
            "Mean Absolute Error (MAE): 0.8187\n",
            "Mean Squared Error (MSE): 1.1742\n",
            "Root Mean Squared Error (RMSE): 1.0836\n",
            "R-squared (R2): 0.3684\n"
          ]
        }
      ]
    }
  ]
}